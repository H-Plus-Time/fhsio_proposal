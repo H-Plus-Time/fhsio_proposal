{
 "cells": [
  {
   "cell_type": "code",
   "execution_count": 1,
   "metadata": {
    "collapsed": true
   },
   "outputs": [],
   "source": [
    "import familygraph_pb2 as fg\n",
    "from uuid import uuid4\n",
    "import datetime"
   ]
  },
  {
   "cell_type": "code",
   "execution_count": 9,
   "metadata": {},
   "outputs": [],
   "source": [
    "mary = fg.Person()\n",
    "mary.id = str(uuid4())\n",
    "john = fg.Person()\n",
    "mary.id = str(uuid4())\n",
    "people = []\n",
    "people.append(mary)\n",
    "people.append(john)\n",
    "edges = []\n",
    "partnerships = []"
   ]
  },
  {
   "cell_type": "code",
   "execution_count": 10,
   "metadata": {},
   "outputs": [],
   "source": [
    "name = mary.name.add()\n",
    "name.value = \"Mary Jane\"\n",
    "mary.birthplace = \"Cork, Munster, Republic of Ireland\"\n",
    "mary.born.FromDatetime(datetime.datetime(1967,4,10))\n",
    "name = john.name.add()\n",
    "name.value = \"John O'Connor\"\n",
    "john.birthplace = \"Dublin, Leinster, Republic of Ireland\"\n",
    "john.born.FromDatetime(datetime.datetime(1969,12,30))"
   ]
  },
  {
   "cell_type": "code",
   "execution_count": 11,
   "metadata": {},
   "outputs": [],
   "source": [
    "marriage = fg.Partnership()\n",
    "marriage.id = str(uuid4())\n",
    "marriage.validity_period.start.seconds = 1000000000\n",
    "partnerships.append(marriage)\n",
    "party_to = fg.PartyTo()\n",
    "party_to.id = str(uuid4())\n",
    "party_to.person = mary.id\n",
    "party_to.partnership = marriage.id\n",
    "edges.append(party_to)\n",
    "party_to = fg.PartyTo()\n",
    "party_to.id = str(uuid4())\n",
    "party_to.person = john.id\n",
    "party_to.partnership = marriage.id\n",
    "edges.append(party_to)\n",
    "# now we need to shift Mary's name to maiden, and add her married name\n",
    "maiden = mary.name[0]\n",
    "maiden.type = 'maiden'\n",
    "maiden.validity_period.end.seconds = 1000000000\n",
    "married_name = mary.name.add()\n",
    "married_name.value = \"Mary O'Connor\"\n",
    "married_name.validity_period.start.seconds = 1000000000"
   ]
  },
  {
   "cell_type": "code",
   "execution_count": 12,
   "metadata": {},
   "outputs": [
    {
     "name": "stdout",
     "output_type": "stream",
     "text": [
      "[id: \"f0a961c4-b9e9-43c5-8fa8-a7966c550443\"\n",
      "name {\n",
      "  value: \"Mary Jane\"\n",
      "  validity_period {\n",
      "    end {\n",
      "      seconds: 1000000000\n",
      "    }\n",
      "  }\n",
      "  type: \"maiden\"\n",
      "}\n",
      "name {\n",
      "  value: \"Mary O\\'Connor\"\n",
      "  validity_period {\n",
      "    start {\n",
      "      seconds: 1000000000\n",
      "    }\n",
      "  }\n",
      "}\n",
      "born {\n",
      "  seconds: -86140800\n",
      "}\n",
      "birthplace: \"Cork, Munster, Republic of Ireland\"\n",
      ", name {\n",
      "  value: \"John O\\'Connor\"\n",
      "}\n",
      "born {\n",
      "  seconds: -172800\n",
      "}\n",
      "birthplace: \"Dublin, Leinster, Republic of Ireland\"\n",
      "]\n"
     ]
    }
   ],
   "source": [
    "print(people)"
   ]
  },
  {
   "cell_type": "markdown",
   "metadata": {},
   "source": [
    "Cool, so now we've described the minimal couple. Time for parenthood"
   ]
  },
  {
   "cell_type": "code",
   "execution_count": 15,
   "metadata": {},
   "outputs": [],
   "source": [
    "kat = fg.Person()\n",
    "kat.id = str(uuid4())\n",
    "k_n = kat.name.add()\n",
    "k_n.value = \"Katherine O'Connor\"\n",
    "child_of = fg.ChildOf()\n",
    "child_of.id = str(uuid4())\n",
    "child_of.parent = john.id\n",
    "child_of.child = kat.id\n",
    "edges.append(child_of)\n",
    "child_of = fg.ChildOf()\n",
    "child_of.id = str(uuid4())\n",
    "child_of.parent = mary.id\n",
    "child_of.child = kat.id\n",
    "edges.append(child_of)"
   ]
  },
  {
   "cell_type": "code",
   "execution_count": 16,
   "metadata": {},
   "outputs": [
    {
     "name": "stdout",
     "output_type": "stream",
     "text": [
      "[id: \"db3a2aa9-f669-4419-a006-4947c0e79221\"\n",
      "person: \"f0a961c4-b9e9-43c5-8fa8-a7966c550443\"\n",
      "partnership: \"79867600-c517-4589-84bf-69da5100e8d4\"\n",
      ", id: \"017c7cbd-3837-46cf-8e91-092f32dd826a\"\n",
      "partnership: \"79867600-c517-4589-84bf-69da5100e8d4\"\n",
      ", id: \"d7564d3d-035d-4b9c-a0c0-5159a9d0ccda\"\n",
      "child: \"193b750c-c5ac-45e7-a9af-8d07c37ed463\"\n",
      ", id: \"cf780a14-a304-48c2-b3a2-5cf40c888519\"\n",
      "parent: \"f0a961c4-b9e9-43c5-8fa8-a7966c550443\"\n",
      "child: \"193b750c-c5ac-45e7-a9af-8d07c37ed463\"\n",
      "]\n"
     ]
    }
   ],
   "source": [
    "print(edges)"
   ]
  },
  {
   "cell_type": "markdown",
   "metadata": {},
   "source": [
    "Now, time for "
   ]
  }
 ],
 "metadata": {
  "kernelspec": {
   "display_name": "Python [default]",
   "language": "python",
   "name": "python3"
  },
  "language_info": {
   "codemirror_mode": {
    "name": "ipython",
    "version": 3
   },
   "file_extension": ".py",
   "mimetype": "text/x-python",
   "name": "python",
   "nbconvert_exporter": "python",
   "pygments_lexer": "ipython3",
   "version": "3.6.0"
  }
 },
 "nbformat": 4,
 "nbformat_minor": 2
}
